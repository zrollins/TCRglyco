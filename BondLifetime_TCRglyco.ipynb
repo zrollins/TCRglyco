{
 "cells": [
  {
   "cell_type": "code",
   "execution_count": 5,
   "metadata": {},
   "outputs": [
    {
     "name": "stdout",
     "output_type": "stream",
     "text": [
      "   Glycosylated DMF5 TCR  Aglycosylated DMF5 TCR\n",
      "0                  39815                   11367\n",
      "1                  12872                    4619\n",
      "2                  12138                    6631\n",
      "   Glycosylated DMF5 TCR  Aglycosylated DMF5 TCR  Glycosylated DMF5 TCR AVG  \\\n",
      "0                  39815                   11367               21608.333333   \n",
      "1                  12872                    4619               21608.333333   \n",
      "2                  12138                    6631               21608.333333   \n",
      "\n",
      "   Glycosylated DMF5 TCR SEM  Aglycosylated DMF5 TCR AVG  \\\n",
      "0                9105.798928                      7539.0   \n",
      "1                9105.798928                      7539.0   \n",
      "2                9105.798928                      7539.0   \n",
      "\n",
      "   Aglycosylated DMF5 TCR SEM  \n",
      "0                 2000.185325  \n",
      "1                 2000.185325  \n",
      "2                 2000.185325  \n",
      "--------------------------------------------------\n",
      "Student t-test: Glycosylated-Aglycosylated TCR Bond Lifetime\n",
      "--------------------------------------------------\n",
      "F= 1.5091168402554644 , PR(>F)= 0.10288583184363238\n",
      "   Glycosylated DMF5 TCR  Aglycosylated DMF5 TCR  Glycosylated DMF5 TCR AVG  \\\n",
      "0                  39815                   11367               21608.333333   \n",
      "1                  12872                    4619               21608.333333   \n",
      "2                  12138                    6631               21608.333333   \n",
      "\n",
      "   Glycosylated DMF5 TCR SEM  Aglycosylated DMF5 TCR AVG  \\\n",
      "0                9105.798928                      7539.0   \n",
      "1                9105.798928                      7539.0   \n",
      "2                9105.798928                      7539.0   \n",
      "\n",
      "   Aglycosylated DMF5 TCR SEM  \n",
      "0                 2000.185325  \n",
      "1                 2000.185325  \n",
      "2                 2000.185325  \n"
     ]
    },
    {
     "name": "stderr",
     "output_type": "stream",
     "text": [
      "/opt/anaconda3/lib/python3.7/site-packages/ipykernel_launcher.py:44: UserWarning: Legend does not support 'A' instances.\n",
      "A proxy artist may be used instead.\n",
      "See: http://matplotlib.org/users/legend_guide.html#creating-artists-specifically-for-adding-to-the-legend-aka-proxy-artists\n",
      "/opt/anaconda3/lib/python3.7/site-packages/ipykernel_launcher.py:44: UserWarning: Legend does not support 'g' instances.\n",
      "A proxy artist may be used instead.\n",
      "See: http://matplotlib.org/users/legend_guide.html#creating-artists-specifically-for-adding-to-the-legend-aka-proxy-artists\n",
      "/opt/anaconda3/lib/python3.7/site-packages/ipykernel_launcher.py:44: UserWarning: Legend does not support 'l' instances.\n",
      "A proxy artist may be used instead.\n",
      "See: http://matplotlib.org/users/legend_guide.html#creating-artists-specifically-for-adding-to-the-legend-aka-proxy-artists\n",
      "/opt/anaconda3/lib/python3.7/site-packages/ipykernel_launcher.py:44: UserWarning: Legend does not support 'y' instances.\n",
      "A proxy artist may be used instead.\n",
      "See: http://matplotlib.org/users/legend_guide.html#creating-artists-specifically-for-adding-to-the-legend-aka-proxy-artists\n",
      "/opt/anaconda3/lib/python3.7/site-packages/ipykernel_launcher.py:44: UserWarning: Legend does not support 'c' instances.\n",
      "A proxy artist may be used instead.\n",
      "See: http://matplotlib.org/users/legend_guide.html#creating-artists-specifically-for-adding-to-the-legend-aka-proxy-artists\n",
      "/opt/anaconda3/lib/python3.7/site-packages/ipykernel_launcher.py:44: UserWarning: Legend does not support 's' instances.\n",
      "A proxy artist may be used instead.\n",
      "See: http://matplotlib.org/users/legend_guide.html#creating-artists-specifically-for-adding-to-the-legend-aka-proxy-artists\n",
      "/opt/anaconda3/lib/python3.7/site-packages/ipykernel_launcher.py:44: UserWarning: Legend does not support 'o' instances.\n",
      "A proxy artist may be used instead.\n",
      "See: http://matplotlib.org/users/legend_guide.html#creating-artists-specifically-for-adding-to-the-legend-aka-proxy-artists\n",
      "/opt/anaconda3/lib/python3.7/site-packages/ipykernel_launcher.py:44: UserWarning: Legend does not support 'a' instances.\n",
      "A proxy artist may be used instead.\n",
      "See: http://matplotlib.org/users/legend_guide.html#creating-artists-specifically-for-adding-to-the-legend-aka-proxy-artists\n",
      "/opt/anaconda3/lib/python3.7/site-packages/ipykernel_launcher.py:44: UserWarning: Legend does not support 't' instances.\n",
      "A proxy artist may be used instead.\n",
      "See: http://matplotlib.org/users/legend_guide.html#creating-artists-specifically-for-adding-to-the-legend-aka-proxy-artists\n",
      "/opt/anaconda3/lib/python3.7/site-packages/ipykernel_launcher.py:44: UserWarning: Legend does not support 'e' instances.\n",
      "A proxy artist may be used instead.\n",
      "See: http://matplotlib.org/users/legend_guide.html#creating-artists-specifically-for-adding-to-the-legend-aka-proxy-artists\n"
     ]
    },
    {
     "data": {
      "image/png": "[encoded data removed]",
      "text/plain": [
       "<Figure size 432x288 with 1 Axes>"
      ]
     },
     "metadata": {
      "needs_background": "light"
     },
     "output_type": "display_data"
    }
   ],
   "source": [
    "import numpy as np\n",
    "import pandas as pd\n",
    "import statistics as st\n",
    "import matplotlib.pyplot as plt\n",
    "import scipy.stats as stats\n",
    "import matplotlib.pyplot as plt\n",
    "from pingouin import pairwise_tukey\n",
    "from pingouin import pairwise_tukey\n",
    "from openpyxl import load_workbook\n",
    "\n",
    "g =[39815,12872,12138]\n",
    "dg=[11367,4619,6631]\n",
    "\n",
    "t={'Glycosylated DMF5 TCR':g,'Aglycosylated DMF5 TCR':dg}\n",
    "df = pd.DataFrame(t)\n",
    "print(df)\n",
    "df['Glycosylated DMF5 TCR AVG'] = df['Glycosylated DMF5 TCR'].astype(float).mean(axis=0)\n",
    "df['Glycosylated DMF5 TCR SEM'] = df['Glycosylated DMF5 TCR'].astype(float).sem(axis=0)\n",
    "df['Aglycosylated DMF5 TCR AVG'] = df['Aglycosylated DMF5 TCR'].astype(float).mean(axis=0)\n",
    "df['Aglycosylated DMF5 TCR SEM'] = df['Aglycosylated DMF5 TCR'].astype(float).sem(axis=0)\n",
    "print(df)\n",
    "data=pd.DataFrame()\n",
    "data['Glycosylated DMF5 TCR']=df['Glycosylated DMF5 TCR']\n",
    "data['Aglycosylated DMF5 TCR'] =df['Aglycosylated DMF5 TCR']\n",
    "\n",
    "###Student's t-test\n",
    "f, p = stats.ttest_ind(data.dropna()['Glycosylated DMF5 TCR'],data.dropna()['Aglycosylated DMF5 TCR'], equal_var=True, alternative='greater')\n",
    "print('--------------------------------------------------')\n",
    "print('Student t-test: Glycosylated-Aglycosylated TCR Bond Lifetime')\n",
    "print('--------------------------------------------------')\n",
    "print ('F=',f,',', 'PR(>F)=',p)\n",
    "\n",
    "print(df)\n",
    "y=['Aglycosylated DMF5 TCR AVG','Glycosylated DMF5 TCR AVG']\n",
    "color=['gray','orange']\n",
    "ax = df.plot.bar(y=y,yerr=df[['Aglycosylated DMF5 TCR SEM','Glycosylated DMF5 TCR SEM']].T.values, color=color, rot=0)\n",
    "plt.xlim(-0.5,0.5)\n",
    "plt.xticks(ticks=[], labels= [])\n",
    "plt.xlabel('TCR',fontname = 'Arial', fontsize=20)\n",
    "plt.ylabel('Time (ps)',fontname = 'Arial', fontsize=20)\n",
    "plt.rc('xtick',labelsize=15)\n",
    "plt.rc('ytick',labelsize=15)\n",
    "plt.title('N-Glycosylation TCR-pMHC Bond Lifetime (500 pN)',fontname = 'Arial Black', fontsize=20)\n",
    "plt.legend('Aglycsoylated','Glycosylated')\n",
    "plt.savefig('/Users/zrollins/Documents/Documents/TCR_glyco/glyco/septime.png', bbox_inches='tight',dpi=300)\n"
   ]
  }
 ],
 "metadata": {
  "kernelspec": {
   "display_name": "Python 3",
   "language": "python",
   "name": "python3"
  },
  "language_info": {
   "codemirror_mode": {
    "name": "ipython",
    "version": 3
   },
   "file_extension": ".py",
   "mimetype": "text/x-python",
   "name": "python",
   "nbconvert_exporter": "python",
   "pygments_lexer": "ipython3",
   "version": "3.7.6"
  }
 },
 "nbformat": 4,
 "nbformat_minor": 4
}
